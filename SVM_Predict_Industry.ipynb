{
  "nbformat": 4,
  "nbformat_minor": 0,
  "metadata": {
    "colab": {
      "provenance": [],
      "authorship_tag": "ABX9TyPXCauGYrnu9xnGPo/iaR3a",
      "include_colab_link": true
    },
    "kernelspec": {
      "name": "python3",
      "display_name": "Python 3"
    },
    "language_info": {
      "name": "python"
    }
  },
  "cells": [
    {
      "cell_type": "markdown",
      "metadata": {
        "id": "view-in-github",
        "colab_type": "text"
      },
      "source": [
        "<a href=\"https://colab.research.google.com/github/thinh2904/Excel/blob/main/SVM_Predict_Industry.ipynb\" target=\"_parent\"><img src=\"https://colab.research.google.com/assets/colab-badge.svg\" alt=\"Open In Colab\"/></a>"
      ]
    },
    {
      "cell_type": "code",
      "execution_count": 6,
      "metadata": {
        "colab": {
          "base_uri": "https://localhost:8080/"
        },
        "id": "4tkmxndHCbGQ",
        "outputId": "c8b46257-b401-46fa-df10-293d7b9cbcbd"
      },
      "outputs": [
        {
          "output_type": "stream",
          "name": "stdout",
          "text": [
            "         name  rate                                              image  \\\n",
            "0      Amazon   3.7  https://media.glassdoor.com/sql/6036/amazon-sq...   \n",
            "1    Deloitte   4.0  https://media.glassdoor.com/sql/2763/deloitte-...   \n",
            "2  McDonald's   3.6  https://media.glassdoor.com/sql/432/mcdonald-s...   \n",
            "3      Target   3.5  https://media.glassdoor.com/sql/194/target-squ...   \n",
            "4   Accenture   3.9  https://media.glassdoor.com/sql/4138/accenture...   \n",
            "\n",
            "  glb_company_size                           industry  review  salary   jobs  \\\n",
            "0            10000            Internet & Web Services  185100  390400  14100   \n",
            "1            10000                   Accounting & Tax  107300  186800  30600   \n",
            "2            10000                Restaurants & Cafes  129400   78900  96300   \n",
            "3            10000  General Merchandise & Superstores   80000  118300  16600   \n",
            "4            10000                Business Consulting  157900   59000  33900   \n",
            "\n",
            "                                         description  \\\n",
            "0  All Amazon teams and businesses, from Prime de...   \n",
            "1  Deloitte provides industry-leading audit and a...   \n",
            "2  McDonald’s is proud to be one of the most reco...   \n",
            "3  Target is one of the world’s most recognized b...   \n",
            "4  Accenture is a global professional services co...   \n",
            "\n",
            "                                         url_company  \n",
            "0  https://www.glassdoor.com/Reviews/Amazon-Revie...  \n",
            "1  https://www.glassdoor.com/Reviews/Deloitte-Rev...  \n",
            "2  https://www.glassdoor.com/Reviews/McDonald-s-R...  \n",
            "3  https://www.glassdoor.com/Reviews/Target-Revie...  \n",
            "4  https://www.glassdoor.com/Reviews/Accenture-Re...  \n"
          ]
        }
      ],
      "source": [
        "import pandas as pd\n",
        "\n",
        "# Đường link chứa file CSV\n",
        "# url = \"https://raw.githubusercontent.com/thinh2904/Excel/main/companys.csv\"\n",
        "\n",
        "# Đọc dữ liệu từ URL vào DataFrame\n",
        "# data = pd.read_csv(url)\n",
        "\n",
        "data = pd.read_csv('companys.csv')\n",
        "\n",
        "# Hiển thị dữ liệu đọc được\n",
        "print(data.head())"
      ]
    },
    {
      "cell_type": "code",
      "source": [
        "from sklearn.model_selection import train_test_split\n",
        "from sklearn.feature_extraction.text import TfidfVectorizer\n",
        "from sklearn.svm import SVC\n",
        "from sklearn.metrics import classification_report"
      ],
      "metadata": {
        "id": "WkH2Fj1eCnko"
      },
      "execution_count": 7,
      "outputs": []
    },
    {
      "cell_type": "code",
      "source": [
        "data = data.dropna()\n",
        "data = data[['description', 'industry']]"
      ],
      "metadata": {
        "id": "6zuL_LpICr2S"
      },
      "execution_count": 8,
      "outputs": []
    },
    {
      "cell_type": "code",
      "source": [
        "data.head()"
      ],
      "metadata": {
        "colab": {
          "base_uri": "https://localhost:8080/",
          "height": 206
        },
        "id": "tXJcSoO-DwfX",
        "outputId": "f7810e26-ff04-41b6-9efb-e06a575c080d"
      },
      "execution_count": 9,
      "outputs": [
        {
          "output_type": "execute_result",
          "data": {
            "text/plain": [
              "                                         description  \\\n",
              "0  All Amazon teams and businesses, from Prime de...   \n",
              "1  Deloitte provides industry-leading audit and a...   \n",
              "2  McDonald’s is proud to be one of the most reco...   \n",
              "3  Target is one of the world’s most recognized b...   \n",
              "4  Accenture is a global professional services co...   \n",
              "\n",
              "                            industry  \n",
              "0            Internet & Web Services  \n",
              "1                   Accounting & Tax  \n",
              "2                Restaurants & Cafes  \n",
              "3  General Merchandise & Superstores  \n",
              "4                Business Consulting  "
            ],
            "text/html": [
              "\n",
              "  <div id=\"df-b61c038f-ad2c-4c33-b88d-9eb683df608c\" class=\"colab-df-container\">\n",
              "    <div>\n",
              "<style scoped>\n",
              "    .dataframe tbody tr th:only-of-type {\n",
              "        vertical-align: middle;\n",
              "    }\n",
              "\n",
              "    .dataframe tbody tr th {\n",
              "        vertical-align: top;\n",
              "    }\n",
              "\n",
              "    .dataframe thead th {\n",
              "        text-align: right;\n",
              "    }\n",
              "</style>\n",
              "<table border=\"1\" class=\"dataframe\">\n",
              "  <thead>\n",
              "    <tr style=\"text-align: right;\">\n",
              "      <th></th>\n",
              "      <th>description</th>\n",
              "      <th>industry</th>\n",
              "    </tr>\n",
              "  </thead>\n",
              "  <tbody>\n",
              "    <tr>\n",
              "      <th>0</th>\n",
              "      <td>All Amazon teams and businesses, from Prime de...</td>\n",
              "      <td>Internet &amp; Web Services</td>\n",
              "    </tr>\n",
              "    <tr>\n",
              "      <th>1</th>\n",
              "      <td>Deloitte provides industry-leading audit and a...</td>\n",
              "      <td>Accounting &amp; Tax</td>\n",
              "    </tr>\n",
              "    <tr>\n",
              "      <th>2</th>\n",
              "      <td>McDonald’s is proud to be one of the most reco...</td>\n",
              "      <td>Restaurants &amp; Cafes</td>\n",
              "    </tr>\n",
              "    <tr>\n",
              "      <th>3</th>\n",
              "      <td>Target is one of the world’s most recognized b...</td>\n",
              "      <td>General Merchandise &amp; Superstores</td>\n",
              "    </tr>\n",
              "    <tr>\n",
              "      <th>4</th>\n",
              "      <td>Accenture is a global professional services co...</td>\n",
              "      <td>Business Consulting</td>\n",
              "    </tr>\n",
              "  </tbody>\n",
              "</table>\n",
              "</div>\n",
              "    <div class=\"colab-df-buttons\">\n",
              "\n",
              "  <div class=\"colab-df-container\">\n",
              "    <button class=\"colab-df-convert\" onclick=\"convertToInteractive('df-b61c038f-ad2c-4c33-b88d-9eb683df608c')\"\n",
              "            title=\"Convert this dataframe to an interactive table.\"\n",
              "            style=\"display:none;\">\n",
              "\n",
              "  <svg xmlns=\"http://www.w3.org/2000/svg\" height=\"24px\" viewBox=\"0 -960 960 960\">\n",
              "    <path d=\"M120-120v-720h720v720H120Zm60-500h600v-160H180v160Zm220 220h160v-160H400v160Zm0 220h160v-160H400v160ZM180-400h160v-160H180v160Zm440 0h160v-160H620v160ZM180-180h160v-160H180v160Zm440 0h160v-160H620v160Z\"/>\n",
              "  </svg>\n",
              "    </button>\n",
              "\n",
              "  <style>\n",
              "    .colab-df-container {\n",
              "      display:flex;\n",
              "      gap: 12px;\n",
              "    }\n",
              "\n",
              "    .colab-df-convert {\n",
              "      background-color: #E8F0FE;\n",
              "      border: none;\n",
              "      border-radius: 50%;\n",
              "      cursor: pointer;\n",
              "      display: none;\n",
              "      fill: #1967D2;\n",
              "      height: 32px;\n",
              "      padding: 0 0 0 0;\n",
              "      width: 32px;\n",
              "    }\n",
              "\n",
              "    .colab-df-convert:hover {\n",
              "      background-color: #E2EBFA;\n",
              "      box-shadow: 0px 1px 2px rgba(60, 64, 67, 0.3), 0px 1px 3px 1px rgba(60, 64, 67, 0.15);\n",
              "      fill: #174EA6;\n",
              "    }\n",
              "\n",
              "    .colab-df-buttons div {\n",
              "      margin-bottom: 4px;\n",
              "    }\n",
              "\n",
              "    [theme=dark] .colab-df-convert {\n",
              "      background-color: #3B4455;\n",
              "      fill: #D2E3FC;\n",
              "    }\n",
              "\n",
              "    [theme=dark] .colab-df-convert:hover {\n",
              "      background-color: #434B5C;\n",
              "      box-shadow: 0px 1px 3px 1px rgba(0, 0, 0, 0.15);\n",
              "      filter: drop-shadow(0px 1px 2px rgba(0, 0, 0, 0.3));\n",
              "      fill: #FFFFFF;\n",
              "    }\n",
              "  </style>\n",
              "\n",
              "    <script>\n",
              "      const buttonEl =\n",
              "        document.querySelector('#df-b61c038f-ad2c-4c33-b88d-9eb683df608c button.colab-df-convert');\n",
              "      buttonEl.style.display =\n",
              "        google.colab.kernel.accessAllowed ? 'block' : 'none';\n",
              "\n",
              "      async function convertToInteractive(key) {\n",
              "        const element = document.querySelector('#df-b61c038f-ad2c-4c33-b88d-9eb683df608c');\n",
              "        const dataTable =\n",
              "          await google.colab.kernel.invokeFunction('convertToInteractive',\n",
              "                                                    [key], {});\n",
              "        if (!dataTable) return;\n",
              "\n",
              "        const docLinkHtml = 'Like what you see? Visit the ' +\n",
              "          '<a target=\"_blank\" href=https://colab.research.google.com/notebooks/data_table.ipynb>data table notebook</a>'\n",
              "          + ' to learn more about interactive tables.';\n",
              "        element.innerHTML = '';\n",
              "        dataTable['output_type'] = 'display_data';\n",
              "        await google.colab.output.renderOutput(dataTable, element);\n",
              "        const docLink = document.createElement('div');\n",
              "        docLink.innerHTML = docLinkHtml;\n",
              "        element.appendChild(docLink);\n",
              "      }\n",
              "    </script>\n",
              "  </div>\n",
              "\n",
              "\n",
              "<div id=\"df-a1be913c-010c-46f5-affb-3f216c50becc\">\n",
              "  <button class=\"colab-df-quickchart\" onclick=\"quickchart('df-a1be913c-010c-46f5-affb-3f216c50becc')\"\n",
              "            title=\"Suggest charts\"\n",
              "            style=\"display:none;\">\n",
              "\n",
              "<svg xmlns=\"http://www.w3.org/2000/svg\" height=\"24px\"viewBox=\"0 0 24 24\"\n",
              "     width=\"24px\">\n",
              "    <g>\n",
              "        <path d=\"M19 3H5c-1.1 0-2 .9-2 2v14c0 1.1.9 2 2 2h14c1.1 0 2-.9 2-2V5c0-1.1-.9-2-2-2zM9 17H7v-7h2v7zm4 0h-2V7h2v10zm4 0h-2v-4h2v4z\"/>\n",
              "    </g>\n",
              "</svg>\n",
              "  </button>\n",
              "\n",
              "<style>\n",
              "  .colab-df-quickchart {\n",
              "      --bg-color: #E8F0FE;\n",
              "      --fill-color: #1967D2;\n",
              "      --hover-bg-color: #E2EBFA;\n",
              "      --hover-fill-color: #174EA6;\n",
              "      --disabled-fill-color: #AAA;\n",
              "      --disabled-bg-color: #DDD;\n",
              "  }\n",
              "\n",
              "  [theme=dark] .colab-df-quickchart {\n",
              "      --bg-color: #3B4455;\n",
              "      --fill-color: #D2E3FC;\n",
              "      --hover-bg-color: #434B5C;\n",
              "      --hover-fill-color: #FFFFFF;\n",
              "      --disabled-bg-color: #3B4455;\n",
              "      --disabled-fill-color: #666;\n",
              "  }\n",
              "\n",
              "  .colab-df-quickchart {\n",
              "    background-color: var(--bg-color);\n",
              "    border: none;\n",
              "    border-radius: 50%;\n",
              "    cursor: pointer;\n",
              "    display: none;\n",
              "    fill: var(--fill-color);\n",
              "    height: 32px;\n",
              "    padding: 0;\n",
              "    width: 32px;\n",
              "  }\n",
              "\n",
              "  .colab-df-quickchart:hover {\n",
              "    background-color: var(--hover-bg-color);\n",
              "    box-shadow: 0 1px 2px rgba(60, 64, 67, 0.3), 0 1px 3px 1px rgba(60, 64, 67, 0.15);\n",
              "    fill: var(--button-hover-fill-color);\n",
              "  }\n",
              "\n",
              "  .colab-df-quickchart-complete:disabled,\n",
              "  .colab-df-quickchart-complete:disabled:hover {\n",
              "    background-color: var(--disabled-bg-color);\n",
              "    fill: var(--disabled-fill-color);\n",
              "    box-shadow: none;\n",
              "  }\n",
              "\n",
              "  .colab-df-spinner {\n",
              "    border: 2px solid var(--fill-color);\n",
              "    border-color: transparent;\n",
              "    border-bottom-color: var(--fill-color);\n",
              "    animation:\n",
              "      spin 1s steps(1) infinite;\n",
              "  }\n",
              "\n",
              "  @keyframes spin {\n",
              "    0% {\n",
              "      border-color: transparent;\n",
              "      border-bottom-color: var(--fill-color);\n",
              "      border-left-color: var(--fill-color);\n",
              "    }\n",
              "    20% {\n",
              "      border-color: transparent;\n",
              "      border-left-color: var(--fill-color);\n",
              "      border-top-color: var(--fill-color);\n",
              "    }\n",
              "    30% {\n",
              "      border-color: transparent;\n",
              "      border-left-color: var(--fill-color);\n",
              "      border-top-color: var(--fill-color);\n",
              "      border-right-color: var(--fill-color);\n",
              "    }\n",
              "    40% {\n",
              "      border-color: transparent;\n",
              "      border-right-color: var(--fill-color);\n",
              "      border-top-color: var(--fill-color);\n",
              "    }\n",
              "    60% {\n",
              "      border-color: transparent;\n",
              "      border-right-color: var(--fill-color);\n",
              "    }\n",
              "    80% {\n",
              "      border-color: transparent;\n",
              "      border-right-color: var(--fill-color);\n",
              "      border-bottom-color: var(--fill-color);\n",
              "    }\n",
              "    90% {\n",
              "      border-color: transparent;\n",
              "      border-bottom-color: var(--fill-color);\n",
              "    }\n",
              "  }\n",
              "</style>\n",
              "\n",
              "  <script>\n",
              "    async function quickchart(key) {\n",
              "      const quickchartButtonEl =\n",
              "        document.querySelector('#' + key + ' button');\n",
              "      quickchartButtonEl.disabled = true;  // To prevent multiple clicks.\n",
              "      quickchartButtonEl.classList.add('colab-df-spinner');\n",
              "      try {\n",
              "        const charts = await google.colab.kernel.invokeFunction(\n",
              "            'suggestCharts', [key], {});\n",
              "      } catch (error) {\n",
              "        console.error('Error during call to suggestCharts:', error);\n",
              "      }\n",
              "      quickchartButtonEl.classList.remove('colab-df-spinner');\n",
              "      quickchartButtonEl.classList.add('colab-df-quickchart-complete');\n",
              "    }\n",
              "    (() => {\n",
              "      let quickchartButtonEl =\n",
              "        document.querySelector('#df-a1be913c-010c-46f5-affb-3f216c50becc button');\n",
              "      quickchartButtonEl.style.display =\n",
              "        google.colab.kernel.accessAllowed ? 'block' : 'none';\n",
              "    })();\n",
              "  </script>\n",
              "</div>\n",
              "    </div>\n",
              "  </div>\n"
            ]
          },
          "metadata": {},
          "execution_count": 9
        }
      ]
    },
    {
      "cell_type": "code",
      "source": [
        "# Tiền xử lý văn bản\n",
        "tfidf = TfidfVectorizer(stop_words='english', max_features=5000)\n",
        "X = tfidf.fit_transform(data['description'])\n",
        "y = data['industry']"
      ],
      "metadata": {
        "id": "D8-hYh-dDzCA"
      },
      "execution_count": 11,
      "outputs": []
    },
    {
      "cell_type": "code",
      "source": [
        "# Chia dữ liệu thành train và test sets\n",
        "X_train, X_test, y_train, y_test = train_test_split(X, y, test_size=0.2, random_state=42)"
      ],
      "metadata": {
        "id": "C5pkoC4JD5u4"
      },
      "execution_count": 12,
      "outputs": []
    },
    {
      "cell_type": "code",
      "source": [
        "# Xây dựng mô hình Support Vector Machine (SVM)\n",
        "svm = SVC(kernel='linear')\n",
        "svm.fit(X_train, y_train)"
      ],
      "metadata": {
        "colab": {
          "base_uri": "https://localhost:8080/",
          "height": 74
        },
        "id": "2knxxUCFD-3G",
        "outputId": "68dd0c2e-7038-47b6-c109-f415034e191d"
      },
      "execution_count": 13,
      "outputs": [
        {
          "output_type": "execute_result",
          "data": {
            "text/plain": [
              "SVC(kernel='linear')"
            ],
            "text/html": [
              "<style>#sk-container-id-1 {color: black;background-color: white;}#sk-container-id-1 pre{padding: 0;}#sk-container-id-1 div.sk-toggleable {background-color: white;}#sk-container-id-1 label.sk-toggleable__label {cursor: pointer;display: block;width: 100%;margin-bottom: 0;padding: 0.3em;box-sizing: border-box;text-align: center;}#sk-container-id-1 label.sk-toggleable__label-arrow:before {content: \"▸\";float: left;margin-right: 0.25em;color: #696969;}#sk-container-id-1 label.sk-toggleable__label-arrow:hover:before {color: black;}#sk-container-id-1 div.sk-estimator:hover label.sk-toggleable__label-arrow:before {color: black;}#sk-container-id-1 div.sk-toggleable__content {max-height: 0;max-width: 0;overflow: hidden;text-align: left;background-color: #f0f8ff;}#sk-container-id-1 div.sk-toggleable__content pre {margin: 0.2em;color: black;border-radius: 0.25em;background-color: #f0f8ff;}#sk-container-id-1 input.sk-toggleable__control:checked~div.sk-toggleable__content {max-height: 200px;max-width: 100%;overflow: auto;}#sk-container-id-1 input.sk-toggleable__control:checked~label.sk-toggleable__label-arrow:before {content: \"▾\";}#sk-container-id-1 div.sk-estimator input.sk-toggleable__control:checked~label.sk-toggleable__label {background-color: #d4ebff;}#sk-container-id-1 div.sk-label input.sk-toggleable__control:checked~label.sk-toggleable__label {background-color: #d4ebff;}#sk-container-id-1 input.sk-hidden--visually {border: 0;clip: rect(1px 1px 1px 1px);clip: rect(1px, 1px, 1px, 1px);height: 1px;margin: -1px;overflow: hidden;padding: 0;position: absolute;width: 1px;}#sk-container-id-1 div.sk-estimator {font-family: monospace;background-color: #f0f8ff;border: 1px dotted black;border-radius: 0.25em;box-sizing: border-box;margin-bottom: 0.5em;}#sk-container-id-1 div.sk-estimator:hover {background-color: #d4ebff;}#sk-container-id-1 div.sk-parallel-item::after {content: \"\";width: 100%;border-bottom: 1px solid gray;flex-grow: 1;}#sk-container-id-1 div.sk-label:hover label.sk-toggleable__label {background-color: #d4ebff;}#sk-container-id-1 div.sk-serial::before {content: \"\";position: absolute;border-left: 1px solid gray;box-sizing: border-box;top: 0;bottom: 0;left: 50%;z-index: 0;}#sk-container-id-1 div.sk-serial {display: flex;flex-direction: column;align-items: center;background-color: white;padding-right: 0.2em;padding-left: 0.2em;position: relative;}#sk-container-id-1 div.sk-item {position: relative;z-index: 1;}#sk-container-id-1 div.sk-parallel {display: flex;align-items: stretch;justify-content: center;background-color: white;position: relative;}#sk-container-id-1 div.sk-item::before, #sk-container-id-1 div.sk-parallel-item::before {content: \"\";position: absolute;border-left: 1px solid gray;box-sizing: border-box;top: 0;bottom: 0;left: 50%;z-index: -1;}#sk-container-id-1 div.sk-parallel-item {display: flex;flex-direction: column;z-index: 1;position: relative;background-color: white;}#sk-container-id-1 div.sk-parallel-item:first-child::after {align-self: flex-end;width: 50%;}#sk-container-id-1 div.sk-parallel-item:last-child::after {align-self: flex-start;width: 50%;}#sk-container-id-1 div.sk-parallel-item:only-child::after {width: 0;}#sk-container-id-1 div.sk-dashed-wrapped {border: 1px dashed gray;margin: 0 0.4em 0.5em 0.4em;box-sizing: border-box;padding-bottom: 0.4em;background-color: white;}#sk-container-id-1 div.sk-label label {font-family: monospace;font-weight: bold;display: inline-block;line-height: 1.2em;}#sk-container-id-1 div.sk-label-container {text-align: center;}#sk-container-id-1 div.sk-container {/* jupyter's `normalize.less` sets `[hidden] { display: none; }` but bootstrap.min.css set `[hidden] { display: none !important; }` so we also need the `!important` here to be able to override the default hidden behavior on the sphinx rendered scikit-learn.org. See: https://github.com/scikit-learn/scikit-learn/issues/21755 */display: inline-block !important;position: relative;}#sk-container-id-1 div.sk-text-repr-fallback {display: none;}</style><div id=\"sk-container-id-1\" class=\"sk-top-container\"><div class=\"sk-text-repr-fallback\"><pre>SVC(kernel=&#x27;linear&#x27;)</pre><b>In a Jupyter environment, please rerun this cell to show the HTML representation or trust the notebook. <br />On GitHub, the HTML representation is unable to render, please try loading this page with nbviewer.org.</b></div><div class=\"sk-container\" hidden><div class=\"sk-item\"><div class=\"sk-estimator sk-toggleable\"><input class=\"sk-toggleable__control sk-hidden--visually\" id=\"sk-estimator-id-1\" type=\"checkbox\" checked><label for=\"sk-estimator-id-1\" class=\"sk-toggleable__label sk-toggleable__label-arrow\">SVC</label><div class=\"sk-toggleable__content\"><pre>SVC(kernel=&#x27;linear&#x27;)</pre></div></div></div></div></div>"
            ]
          },
          "metadata": {},
          "execution_count": 13
        }
      ]
    },
    {
      "cell_type": "code",
      "source": [
        "y_pred = svm.predict(X_test)\n",
        "print(classification_report(y_test, y_pred))"
      ],
      "metadata": {
        "colab": {
          "base_uri": "https://localhost:8080/"
        },
        "id": "Bd8nyjHVEKkS",
        "outputId": "b73d43ad-abfd-41e6-8e40-4f7c057683c3"
      },
      "execution_count": 14,
      "outputs": [
        {
          "output_type": "stream",
          "name": "stdout",
          "text": [
            "                                          precision    recall  f1-score   support\n",
            "\n",
            "                        Accounting & Tax       0.88      0.54      0.67        13\n",
            "          Advertising & Public Relations       0.82      0.61      0.70        51\n",
            "                     Aerospace & Defense       0.62      0.53      0.57        15\n",
            " Airlines, Airports & Air Transportation       1.00      0.67      0.80         6\n",
            "    Architectural & Engineering Services       0.71      0.38      0.50        13\n",
            "   Automotive Parts & Accessories Stores       0.00      0.00      0.00         3\n",
            "                       Banking & Lending       0.70      0.76      0.73        34\n",
            "    Beauty & Personal Accessories Stores       0.00      0.00      0.00         3\n",
            "                       Beauty & Wellness       0.00      0.00      0.00        10\n",
            "               Biotech & Pharmaceuticals       0.77      0.83      0.80        29\n",
            "                         Broadcast Media       0.67      0.67      0.67         9\n",
            "           Building & Personnel Services       1.00      0.50      0.67         2\n",
            "                     Business Consulting       0.29      0.41      0.34        29\n",
            "   Cable, Internet & Telephone Providers       0.00      0.00      0.00         2\n",
            "     Catering & Food Service Contractors       0.00      0.00      0.00         4\n",
            "                  Chemical Manufacturing       0.71      0.36      0.48        14\n",
            "                 Civic & Social Services       0.67      0.53      0.59        15\n",
            "                 Colleges & Universities       0.93      0.91      0.92        76\n",
            "           Commercial Equipment Services       0.00      0.00      0.00         2\n",
            "           Computer Hardware Development       0.14      0.12      0.13        32\n",
            "                            Construction       0.53      0.89      0.67         9\n",
            "Consumer Electronics & Appliances Stores       0.00      0.00      0.00         3\n",
            "          Consumer Product Manufacturing       0.11      0.30      0.16        30\n",
            "                 Consumer Product Rental       0.00      0.00      0.00         1\n",
            "                         Crop Production       0.00      0.00      0.00         1\n",
            "                 Culture & Entertainment       1.00      0.67      0.80         3\n",
            "      Department, Clothing & Shoe Stores       0.75      0.69      0.72        26\n",
            "                    Drug & Health Stores       0.00      0.00      0.00         1\n",
            "           Education & Training Services       0.60      0.30      0.40        10\n",
            "               Electronics Manufacturing       0.50      0.32      0.39        28\n",
            "                      Energy & Utilities       0.77      0.71      0.74        24\n",
            " Enterprise Software & Network Solutions       0.33      0.63      0.43        75\n",
            "                            Farm Support       0.00      0.00      0.00         1\n",
            "                         Film Production       0.00      0.00      0.00         6\n",
            "        Financial Transaction Processing       0.80      0.22      0.35        18\n",
            "           Food & Beverage Manufacturing       0.61      0.61      0.61        18\n",
            "                  Food & Beverage Stores       0.00      0.00      0.00         2\n",
            "   Forestry, Logging & Timber Operations       0.00      0.00      0.00         1\n",
            "                                Gambling       0.00      0.00      0.00         2\n",
            "       General Merchandise & Superstores       0.00      0.00      0.00         3\n",
            "            General Repair & Maintenance       0.00      0.00      0.00         1\n",
            "         Gift, Novelty & Souvenir Stores       0.00      0.00      0.00         1\n",
            "    Grantmaking & Charitable Foundations       0.00      0.00      0.00         2\n",
            "                          Grocery Stores       0.83      0.71      0.77         7\n",
            "                           HR Consulting       0.44      0.65      0.52        26\n",
            "      Health Care Products Manufacturing       0.33      0.17      0.22         6\n",
            "        Health Care Services & Hospitals       0.66      0.92      0.77        96\n",
            "      Home Furniture & Housewares Stores       0.00      0.00      0.00         6\n",
            "                        Hotels & Resorts       0.50      0.50      0.50         6\n",
            " Information Technology Support Services       0.49      0.48      0.49        56\n",
            "         Insurance Agencies & Brokerages       1.00      0.11      0.20         9\n",
            "                      Insurance Carriers       0.59      0.71      0.65        28\n",
            "                 Internet & Web Services       0.25      0.56      0.34        32\n",
            "           Investment & Asset Management       0.76      0.62      0.68        42\n",
            "                                   Legal       0.86      0.75      0.80         8\n",
            "                 Machinery Manufacturing       0.29      0.41      0.34        27\n",
            "                   Marine Transportation       0.00      0.00      0.00         1\n",
            " Medical Testing & Clinical Laboratories       0.00      0.00      0.00         1\n",
            "                Membership Organizations       0.00      0.00      0.00         7\n",
            "           Metal & Mineral Manufacturing       1.00      0.50      0.67         4\n",
            "                         Mining & Metals       0.00      0.00      0.00         2\n",
            "                      Municipal Agencies       1.00      0.70      0.82        10\n",
            "                       National Agencies       0.60      0.43      0.50        14\n",
            "                     Other Retail Stores       1.00      0.07      0.12        15\n",
            "               Pet & Pet Supplies Stores       0.00      0.00      0.00         2\n",
            "                   Pet Care & Veterinary       0.00      0.00      0.00         1\n",
            "             Primary & Secondary Schools       0.00      0.00      0.00         1\n",
            "                              Publishing       0.50      0.11      0.18         9\n",
            "                             Real Estate       0.89      0.80      0.85        41\n",
            "                    Real Estate Agencies       0.00      0.00      0.00         1\n",
            "                  Research & Development       0.00      0.00      0.00        10\n",
            "                     Restaurants & Cafes       0.62      0.83      0.71        24\n",
            "                   Security & Protective       1.00      1.00      1.00         1\n",
            "                     Shipping & Trucking       0.50      0.60      0.55        10\n",
            "                    Software Development       0.00      0.00      0.00        21\n",
            "                   Sporting Goods Stores       0.50      0.20      0.29         5\n",
            "                     Sports & Recreation       0.00      0.00      0.00         8\n",
            "               Staffing & Subcontracting       0.00      0.00      0.00         9\n",
            "               State & Regional Agencies       0.00      0.00      0.00         2\n",
            "                         Stock Exchanges       0.00      0.00      0.00         3\n",
            "                     Taxi & Car Services       0.00      0.00      0.00         3\n",
            "             Telecommunications Services       0.75      0.50      0.60         6\n",
            "  Transportation Equipment Manufacturing       0.67      0.60      0.63        20\n",
            "                         Travel Agencies       0.00      0.00      0.00         0\n",
            "                         Vehicle Dealers       0.50      0.20      0.29         5\n",
            "            Vehicle Repair & Maintenance       0.00      0.00      0.00         1\n",
            "                   Video Game Publishing       0.75      0.75      0.75         4\n",
            "                        Waste Management       0.00      0.00      0.00         1\n",
            "                               Wholesale       0.50      0.17      0.25        12\n",
            "\n",
            "                                accuracy                           0.54      1231\n",
            "                               macro avg       0.38      0.31      0.32      1231\n",
            "                            weighted avg       0.55      0.54      0.52      1231\n",
            "\n"
          ]
        },
        {
          "output_type": "stream",
          "name": "stderr",
          "text": [
            "/usr/local/lib/python3.10/dist-packages/sklearn/metrics/_classification.py:1344: UndefinedMetricWarning: Precision and F-score are ill-defined and being set to 0.0 in labels with no predicted samples. Use `zero_division` parameter to control this behavior.\n",
            "  _warn_prf(average, modifier, msg_start, len(result))\n",
            "/usr/local/lib/python3.10/dist-packages/sklearn/metrics/_classification.py:1344: UndefinedMetricWarning: Recall and F-score are ill-defined and being set to 0.0 in labels with no true samples. Use `zero_division` parameter to control this behavior.\n",
            "  _warn_prf(average, modifier, msg_start, len(result))\n",
            "/usr/local/lib/python3.10/dist-packages/sklearn/metrics/_classification.py:1344: UndefinedMetricWarning: Precision and F-score are ill-defined and being set to 0.0 in labels with no predicted samples. Use `zero_division` parameter to control this behavior.\n",
            "  _warn_prf(average, modifier, msg_start, len(result))\n",
            "/usr/local/lib/python3.10/dist-packages/sklearn/metrics/_classification.py:1344: UndefinedMetricWarning: Recall and F-score are ill-defined and being set to 0.0 in labels with no true samples. Use `zero_division` parameter to control this behavior.\n",
            "  _warn_prf(average, modifier, msg_start, len(result))\n",
            "/usr/local/lib/python3.10/dist-packages/sklearn/metrics/_classification.py:1344: UndefinedMetricWarning: Precision and F-score are ill-defined and being set to 0.0 in labels with no predicted samples. Use `zero_division` parameter to control this behavior.\n",
            "  _warn_prf(average, modifier, msg_start, len(result))\n",
            "/usr/local/lib/python3.10/dist-packages/sklearn/metrics/_classification.py:1344: UndefinedMetricWarning: Recall and F-score are ill-defined and being set to 0.0 in labels with no true samples. Use `zero_division` parameter to control this behavior.\n",
            "  _warn_prf(average, modifier, msg_start, len(result))\n"
          ]
        }
      ]
    },
    {
      "cell_type": "code",
      "source": [
        "from sklearn.metrics import accuracy_score\n",
        "\n",
        "accuracy = accuracy_score(y_test, y_pred)\n",
        "print(f\"Accuracy: {accuracy}\")"
      ],
      "metadata": {
        "colab": {
          "base_uri": "https://localhost:8080/"
        },
        "id": "yT1xqgciFIDS",
        "outputId": "cfe7ad5c-e332-42fb-d711-46c7f2b028ff"
      },
      "execution_count": 16,
      "outputs": [
        {
          "output_type": "stream",
          "name": "stdout",
          "text": [
            "Accuracy: 0.5361494719740049\n"
          ]
        }
      ]
    },
    {
      "cell_type": "code",
      "source": [
        "# Dữ liệu mới cần dự đoán\n",
        "new_data = [\n",
        "    \"KPMG LLP, the U.S. audit, tax and advisory services firm, operates from more than 100 offices with more than 32,000 employees and partners throughout the U.S. Our purpose is to turn knowledge into value for the benefit of our clients, our people, and the capital markets.KPMG delivers a globally consistent set of multidisciplinary services based on deep industry knowledge. Our industry focus helps KPMG professionals develop a rich understanding of clients businesses and the insight, skills, and resources required to address industry-specific issues and opportunities\",\n",
        "    \"Founded in 1960, Domino's is the recognized world leader in pizza delivery, with a significant business in carryout pizza. It ranks among the world's top public restaurant brands with its global enterprise of more than 17,000 stores in over 90+ international markets. Its system is made up of franchise owner-operators who accounted for over 97% of the Domino's stores.\",\n",
        "    \"Shopee is the leading e-commerce platform in Southeast Asia and Taiwan. It is a platform tailored for the region, providing customers with an easy, secure and fast online shopping experience through strong payment and logistical support.\"\n",
        "]\n",
        "\n",
        "# Tiền xử lý văn bản cho dữ liệu mới\n",
        "new_X = tfidf.transform(new_data)\n",
        "\n",
        "# Dự đoán với mô hình đã huấn luyện\n",
        "predicted_labels = svm.predict(new_X)\n",
        "\n",
        "# Hiển thị kết quả dự đoán\n",
        "for i, label in enumerate(predicted_labels):\n",
        "    print(f\"Predicted industry for '{new_data[i]}': {label}\")"
      ],
      "metadata": {
        "colab": {
          "base_uri": "https://localhost:8080/"
        },
        "id": "-6D6Owu1Eo5Z",
        "outputId": "df61b907-2fb8-47c8-b708-02cf264a6da1"
      },
      "execution_count": 19,
      "outputs": [
        {
          "output_type": "stream",
          "name": "stdout",
          "text": [
            "Predicted industry for 'KPMG LLP, the U.S. audit, tax and advisory services firm, operates from more than 100 offices with more than 32,000 employees and partners throughout the U.S. Our purpose is to turn knowledge into value for the benefit of our clients, our people, and the capital markets.KPMG delivers a globally consistent set of multidisciplinary services based on deep industry knowledge. Our industry focus helps KPMG professionals develop a rich understanding of clients businesses and the insight, skills, and resources required to address industry-specific issues and opportunities': Accounting & Tax\n",
            "Predicted industry for 'Founded in 1960, Domino's is the recognized world leader in pizza delivery, with a significant business in carryout pizza. It ranks among the world's top public restaurant brands with its global enterprise of more than 17,000 stores in over 90+ international markets. Its system is made up of franchise owner-operators who accounted for over 97% of the Domino's stores.': Restaurants & Cafes\n",
            "Predicted industry for 'Shopee is the leading e-commerce platform in Southeast Asia and Taiwan. It is a platform tailored for the region, providing customers with an easy, secure and fast online shopping experience through strong payment and logistical support.': Internet & Web Services\n"
          ]
        }
      ]
    }
  ]
}